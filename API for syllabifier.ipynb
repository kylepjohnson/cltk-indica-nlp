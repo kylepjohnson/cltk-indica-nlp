{
 "cells": [
  {
   "cell_type": "markdown",
   "metadata": {},
   "source": [
    "# API usage for syllabifier (Indic NLP)"
   ]
  },
  {
   "cell_type": "raw",
   "metadata": {},
   "source": [
    "Slight technicality that is needed to be straightened out, I've set the document resources according to the local git repository. Although I've uploaded the same on the github repo, I don't how to give it a path. "
   ]
  },
  {
   "cell_type": "raw",
   "metadata": {
    "collapsed": true
   },
   "source": [
    "The path for the resources, and the word to be syllabified altogether through a call from an instance of the class"
   ]
  },
  {
   "cell_type": "code",
   "execution_count": null,
   "metadata": {
    "collapsed": true
   },
   "outputs": [],
   "source": [
    "x = Syllabifier(\"/home/soumya/Documents/indic_nlp3/indic_nlp_resources-master\", 'नमस्ते', 'hi')\n"
   ]
  },
  {
   "cell_type": "raw",
   "metadata": {
    "collapsed": true
   },
   "source": [
    "The output is as follows:"
   ]
  },
  {
   "cell_type": "code",
   "execution_count": null,
   "metadata": {
    "collapsed": true
   },
   "outputs": [],
   "source": [
    "/usr/bin/python3.4 /home/soumya/upython/sylapi.py\n",
    "['न', 'म', 'स्ते']\n",
    "\n",
    "Process finished with exit code 0"
   ]
  }
 ],
 "metadata": {
  "kernelspec": {
   "display_name": "Python 2",
   "language": "python",
   "name": "python2"
  },
  "language_info": {
   "codemirror_mode": {
    "name": "ipython",
    "version": 2
   },
   "file_extension": ".py",
   "mimetype": "text/x-python",
   "name": "python",
   "nbconvert_exporter": "python",
   "pygments_lexer": "ipython2",
   "version": "2.7.9"
  }
 },
 "nbformat": 4,
 "nbformat_minor": 0
}
