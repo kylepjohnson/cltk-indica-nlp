{
 "cells": [
  {
   "cell_type": "markdown",
   "metadata": {},
   "source": [
    "# API usage for syllabifier (Indic NLP)"
   ]
  },
  {
   "cell_type": "raw",
   "metadata": {},
   "source": [
    "First set these resources on your machine"
   ]
  },
  {
   "cell_type": "code",
   "execution_count": null,
   "metadata": {
    "collapsed": true
   },
   "outputs": [],
   "source": [
    "INDIC_NLP_RESOURCES=\"/DATA/src/python/indic_nlp_resources\"\n",
    "INDIC_NLP_LIB_HOME=\"/home/soumya/indicapi\""
   ]
  },
  {
   "cell_type": "raw",
   "metadata": {},
   "source": [
    "This sets the path of the syllabifier"
   ]
  },
  {
   "cell_type": "code",
   "execution_count": null,
   "metadata": {
    "collapsed": true
   },
   "outputs": [],
   "source": [
    "# -*- coding: utf-8 -*-\n",
    "import sys\n",
    "sys.path.append('{}/src'.format(INDIC_NLP_LIB_HOME))\n",
    "\n",
    "from indicas import syl as si\n",
    "si.set_resources_path(INDIC_NLP_RESOURCES)\n"
   ]
  },
  {
   "cell_type": "raw",
   "metadata": {},
   "source": [
    "Initialize the Indic NLP Library, by loading it"
   ]
  },
  {
   "cell_type": "code",
   "execution_count": null,
   "metadata": {
    "collapsed": true
   },
   "outputs": [],
   "source": [
    "si.load()"
   ]
  },
  {
   "cell_type": "raw",
   "metadata": {},
   "source": [
    "Now, to call the syllabifying function itself "
   ]
  },
  {
   "cell_type": "code",
   "execution_count": null,
   "metadata": {
    "collapsed": true
   },
   "outputs": [],
   "source": [
    "syl.orthographic_syllabify('नमस्ते','hi')"
   ]
  },
  {
   "cell_type": "raw",
   "metadata": {},
   "source": [
    "Due to inconsistencies between Python 2 and Python 3 regarding Unicode and str types, this method returns an error in its return statement. "
   ]
  },
  {
   "cell_type": "code",
   "execution_count": null,
   "metadata": {
    "collapsed": true
   },
   "outputs": [],
   "source": [
    "Traceback (most recent call last):\n",
    "  File \"/home/soumya/upython/sylapi.py\", line 13, in <module>\n",
    "    syl.orthographic_syllabify('नमस्ते','hi')\n",
    "  File \"/home/soumya/indicapi/src/indicas/syl.py\", line 255, in orthographic_syllabify\n",
    "    print (u''.join(syllables).strip().split(u' '))\n",
    "UnicodeDecodeError: 'ascii' codec can't decode byte 0xe0 in position 0: ordinal not in range(128)"
   ]
  },
  {
   "cell_type": "raw",
   "metadata": {},
   "source": [
    "The UnicodeDecodeError occurs because every grapheme is converted to string before being returned to the terminal. String which operates on the ascii code cannot decode the unicode value present. \n"
   ]
  }
 ],
 "metadata": {
  "kernelspec": {
   "display_name": "Python 2",
   "language": "python",
   "name": "python2"
  },
  "language_info": {
   "codemirror_mode": {
    "name": "ipython",
    "version": 2
   },
   "file_extension": ".py",
   "mimetype": "text/x-python",
   "name": "python",
   "nbconvert_exporter": "python",
   "pygments_lexer": "ipython2",
   "version": "2.7.9"
  }
 },
 "nbformat": 4,
 "nbformat_minor": 0
}
